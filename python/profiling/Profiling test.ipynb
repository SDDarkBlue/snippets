{
 "metadata": {
  "name": "",
  "signature": "sha256:9ba35443a1fa7e7d139251c70884f731e407a8a2c72bcc2854743509ba6972ee"
 },
 "nbformat": 3,
 "nbformat_minor": 0,
 "worksheets": [
  {
   "cells": [
    {
     "cell_type": "code",
     "collapsed": false,
     "input": [
      "import pandas as pd\n",
      "import numpy as np\n",
      "import timeit"
     ],
     "language": "python",
     "metadata": {},
     "outputs": [],
     "prompt_number": 38
    },
    {
     "cell_type": "code",
     "collapsed": false,
     "input": [
      "def plotruns(runs):\n",
      "    run_cols = runs.columns\n",
      "    runs['x_jitter'] = sorted(np.random.normal([1]*len(runs[run_cols[0]]), 0.08))\n",
      "    f = plt.figure()\n",
      "    f.set_figwidth(10)\n",
      "    f.set_figheight(6)\n",
      "    ax1 = f.add_subplot(111)\n",
      "    ax1.set_title('Runs')\n",
      "    for i, col in enumerate(run_cols):\n",
      "        ax1.scatter(runs.x_jitter + i, runs[col], alpha=0.3)"
     ],
     "language": "python",
     "metadata": {},
     "outputs": [],
     "prompt_number": 53
    },
    {
     "cell_type": "markdown",
     "metadata": {},
     "source": [
      "# Timing statements with the `timeit` module\n",
      "\n",
      "The `timeit` module allows you to time the execution of one statement. What I like about this approach is the fact that you can do repeated calls of the statement, and it returns the execution times as an array. That allows you to do some stuff with the execution times such as creating a plot.\n",
      "\n",
      "The disadvantage I think is the fact that the statement needs to be passed as a string, and it has no access to the global scope. For instance, in `source3` below, I have to import `pandas` again because that code cannot access the pandas module I already imported."
     ]
    },
    {
     "cell_type": "code",
     "collapsed": false,
     "input": [
      "source = \"\"\"\n",
      "def sumArrays():\n",
      "    a = []\n",
      "    for i in range(1000000):\n",
      "        a.append(i)\n",
      "    sum(a)\n",
      "sumArrays()\n",
      "\"\"\"\n",
      "\n",
      "source2 = \"\"\"\n",
      "def sumArrays():\n",
      "    a = []\n",
      "    for i in range(1000000):\n",
      "        a.append(i)\n",
      "    sum = 0\n",
      "    for i in a:\n",
      "        sum += i\n",
      "sumArrays()\n",
      "\"\"\"\n",
      "\n",
      "source3 = \"\"\"\n",
      "import pandas as pd\n",
      "def sumArrays():\n",
      "    a = []\n",
      "    for i in range(1000000):\n",
      "        a.append(i)\n",
      "    d = pd.Series(a)\n",
      "    d.sum()\n",
      "sumArrays()\n",
      "\"\"\"\n"
     ],
     "language": "python",
     "metadata": {},
     "outputs": [],
     "prompt_number": 65
    },
    {
     "cell_type": "code",
     "collapsed": false,
     "input": [
      "runs = timeit.Timer(source).repeat(repeat=20, number=1)\n",
      "runs2 = timeit.Timer(source2).repeat(repeat=20, number=1)\n",
      "runs3 = timeit.Timer(source3).repeat(repeat=20, number=1)\n",
      "runs4 = timeit.Timer(source3).repeat(repeat=20, number=1)\n",
      "\n",
      "data = pd.DataFrame(data={\"a\": runs, \"b\": runs2, \"c\": runs3, \"d\": runs4})\n",
      "plotruns(data)"
     ],
     "language": "python",
     "metadata": {},
     "outputs": [
      {
       "metadata": {},
       "output_type": "display_data",
       "png": "[encoded data removed]",
       "text": [
        "<matplotlib.figure.Figure at 0x111f77410>"
       ]
      }
     ],
     "prompt_number": 68
    },
    {
     "cell_type": "markdown",
     "metadata": {},
     "source": [
      "# Profiling with `cProfile`\n",
      "\n",
      "The most common way to profile code seems to be by using the `cProfile` module. It gives you detailed information on how many times every statement was called and the execution time per statement. The syntax to invoke the profiler is very elegant. Insert `pr.enable()` and `pr.disable()` in you code, and all the code in between will be profiled. The fact that the profiled code now actually is code has obvious advantages over the approach where the timed code needs to be given as a string.\n",
      "\n",
      "By the way, you can also use the profiler command line to profile the execution of one of your Python scripts. This goes like: `python -m cProfile myscript.py`"
     ]
    },
    {
     "cell_type": "code",
     "collapsed": false,
     "input": [
      "import cProfile\n",
      "\n",
      "pr = cProfile.Profile()\n",
      "pr.enable()\n",
      "timeit.Timer(source).repeat(repeat=5, number=1)\n",
      "pr.disable()"
     ],
     "language": "python",
     "metadata": {},
     "outputs": [],
     "prompt_number": 75
    },
    {
     "cell_type": "markdown",
     "metadata": {},
     "source": [
      "However, the profiler can only dump its results to a file. If you want more flexibility (sort the output on execution time or number of calls), you need to load the profiling data with the `pstats` module. Whereas this gives you the possibility to sort or limit the output, I still don't see a way to actually get the execution time and do stuff with it (e.g. put in new data and see what impact that has on the execution time). Furthermore, the syntax for retrieving the stats feels very clumsy."
     ]
    },
    {
     "cell_type": "code",
     "collapsed": false,
     "input": [
      "import pstats, StringIO\n",
      "s = StringIO.StringIO()\n",
      "sortby = 'cumulative'\n",
      "ps = pstats.Stats(pr, stream=s).sort_stats(sortby)\n",
      "ps.print_stats()\n",
      "print s.getvalue()"
     ],
     "language": "python",
     "metadata": {},
     "outputs": [
      {
       "output_type": "stream",
       "stream": "stdout",
       "text": [
        "         5000084 function calls in 1.502 seconds\n",
        "\n",
        "   Ordered by: cumulative time\n",
        "\n",
        "   ncalls  tottime  percall  cumtime  percall filename:lineno(function)\n",
        "        2    0.000    0.000    1.498    0.749 /Users/bart_aelterman/Projects/LW-009-Watina/TCN_API/ENV/lib/python2.7/site-packages/IPython/core/interactiveshell.py:2854(run_code)\n",
        "        1    0.000    0.000    1.498    1.498 <ipython-input-75-3bb0b5f2f2b3>:5(<module>)\n",
        "        1    0.000    0.000    1.494    1.494 /System/Library/Frameworks/Python.framework/Versions/2.7/lib/python2.7/timeit.py:201(repeat)\n",
        "        5    0.000    0.000    1.494    0.299 /System/Library/Frameworks/Python.framework/Versions/2.7/lib/python2.7/timeit.py:178(timeit)\n",
        "        5    0.030    0.006    1.494    0.299 <timeit-src>:2(inner)\n",
        "        5    1.007    0.201    1.464    0.293 <timeit-src>:7(sumArrays)\n",
        "  5000005    0.341    0.000    0.341    0.000 {method 'append' of 'list' objects}\n",
        "        6    0.074    0.012    0.074    0.012 {range}\n",
        "        5    0.043    0.009    0.043    0.009 {sum}\n",
        "        3    0.006    0.002    0.006    0.002 {compile}\n",
        "        2    0.000    0.000    0.004    0.002 /System/Library/Frameworks/Python.framework/Versions/2.7/lib/python2.7/codeop.py:132(__call__)\n",
        "        1    0.001    0.001    0.003    0.003 /System/Library/Frameworks/Python.framework/Versions/2.7/lib/python2.7/timeit.py:121(__init__)\n",
        "        2    0.000    0.000    0.000    0.000 /System/Library/Frameworks/Python.framework/Versions/2.7/lib/python2.7/timeit.py:90(reindent)\n",
        "        2    0.000    0.000    0.000    0.000 /Users/bart_aelterman/Projects/LW-009-Watina/TCN_API/ENV/lib/python2.7/site-packages/IPython/core/hooks.py:127(__call__)\n",
        "       10    0.000    0.000    0.000    0.000 {time.time}\n",
        "        1    0.000    0.000    0.000    0.000 <ipython-input-75-3bb0b5f2f2b3>:6(<module>)\n",
        "        2    0.000    0.000    0.000    0.000 /Users/bart_aelterman/Projects/LW-009-Watina/TCN_API/ENV/lib/python2.7/site-packages/IPython/core/interactiveshell.py:1055(user_global_ns)\n",
        "        2    0.000    0.000    0.000    0.000 {method 'replace' of 'str' objects}\n",
        "        2    0.000    0.000    0.000    0.000 /Users/bart_aelterman/Projects/LW-009-Watina/TCN_API/ENV/lib/python2.7/site-packages/IPython/utils/ipstruct.py:125(__getattr__)\n",
        "        1    0.000    0.000    0.000    0.000 <timeit-src>:2(<module>)\n",
        "        2    0.000    0.000    0.000    0.000 {isinstance}\n",
        "        5    0.000    0.000    0.000    0.000 {gc.isenabled}\n",
        "        2    0.000    0.000    0.000    0.000 /Users/bart_aelterman/Projects/LW-009-Watina/TCN_API/ENV/lib/python2.7/site-packages/IPython/core/hooks.py:192(pre_run_code_hook)\n",
        "        1    0.000    0.000    0.000    0.000 {method 'disable' of '_lsprof.Profiler' objects}\n",
        "        5    0.000    0.000    0.000    0.000 {gc.enable}\n",
        "        5    0.000    0.000    0.000    0.000 {gc.disable}\n",
        "        1    0.000    0.000    0.000    0.000 {globals}\n",
        "\n",
        "\n",
        "\n"
       ]
      }
     ],
     "prompt_number": 78
    },
    {
     "cell_type": "markdown",
     "metadata": {},
     "source": [
      "# Timing a code block\n",
      "\n",
      "I found the following example in [this blogpost](http://www.huyng.com/posts/python-performance-analysis/). It lets you create a timer object as context that you can use in a `with` statement. The syntax is very straight forward, but you have to define the timer object yourself first. Furthermore, it relies on the `time.time()` statement, which gives you the total elapsed time. That might not be exactly what you're looking for.\n",
      "\n",
      "Nevertheless, this approach comes closest to what I'm actually trying to do: perform a number of runs with different data and see how the execution time evolves."
     ]
    },
    {
     "cell_type": "code",
     "collapsed": false,
     "input": [
      "import pandas as pd\n",
      "import time\n",
      "\n",
      "class Timer(object):\n",
      "    def __init__(self, verbose=False):\n",
      "        self.verbose = verbose\n",
      "\n",
      "    def __enter__(self):\n",
      "        self.start = time.time()\n",
      "        return self\n",
      "\n",
      "    def __exit__(self, *args):\n",
      "        self.end = time.time()\n",
      "        self.secs = self.end - self.start\n",
      "        self.msecs = self.secs * 1000  # millisecs\n",
      "        if self.verbose:\n",
      "            print 'elapsed time: %f ms' % self.msecs\n",
      "\n",
      "#/ functions to test \\\n",
      "def sumArrays(nr):\n",
      "    a = []\n",
      "    for i in range(nr):\n",
      "        a.append(i)\n",
      "    d = pd.Series(a)\n",
      "    d.sum()\n",
      "    \n",
      "def sumArrays2(nr):\n",
      "    a = []\n",
      "    for i in range(nr):\n",
      "        a.append(i)\n",
      "    sum = 0\n",
      "    for i in a:\n",
      "        sum += i\n",
      "        \n",
      "def sumArrays3(nr):\n",
      "    a = []\n",
      "    for i in range(nr):\n",
      "        a.append(i)\n",
      "    d = pd.Series(a)\n",
      "    d.sum()\n",
      "#\\ ==================/\n",
      "\n",
      "\n",
      "#/ timing function \\\n",
      "def time_func(func, data_array, nr_runs=10):\n",
      "    all_results = {}\n",
      "    for x in data_array:\n",
      "        sub_results = []\n",
      "        for run in range(nr_runs):\n",
      "            with Timer() as t:\n",
      "                func(x)\n",
      "            sub_results.append(t.msecs)\n",
      "        all_results[x] = sub_results\n",
      "    return all_results\n",
      "#\\ ==================/\n",
      "\n",
      "\n",
      "nr_runs = 15\n",
      "data = [500000, 1000000, 1500000, 2000000, 2500000, 3000000]\n",
      "extimes1 = time_func(sumArrays, data, nr_runs=nr_runs)\n",
      "extimes2 = time_func(sumArrays2, data, nr_runs=nr_runs)\n",
      "extimes3 = time_func(sumArrays3, data, nr_runs=nr_runs)"
     ],
     "language": "python",
     "metadata": {},
     "outputs": [],
     "prompt_number": 97
    },
    {
     "cell_type": "markdown",
     "metadata": {},
     "source": [
      "Now these data can be plotted:"
     ]
    },
    {
     "cell_type": "code",
     "collapsed": false,
     "input": [
      "d = pd.DataFrame(data=extimes1)\n",
      "d2 = pd.DataFrame(data=extimes2)\n",
      "d3 = pd.DataFrame(data=extimes3)\n",
      "d['x_jitter'] = sorted(np.random.normal([1]*len(d[data[0]]), 20000))\n",
      "f = plt.figure()\n",
      "f.set_figwidth(10)\n",
      "f.set_figheight(6)\n",
      "ax1 = f.add_subplot(111)\n",
      "ax1.set_title('Execution times')\n",
      "for i, col in enumerate(data):\n",
      "    ax1.scatter(d.x_jitter + col, d[col], alpha=0.3)\n",
      "    ax1.scatter(d.x_jitter + col, d2[col], alpha=0.3, color=\"red\")\n",
      "    ax1.scatter(d.x_jitter + col, d3[col], alpha=0.3, color=\"green\")"
     ],
     "language": "python",
     "metadata": {},
     "outputs": [
      {
       "metadata": {},
       "output_type": "display_data",
       "png": "[encoded data removed]",
       "text": [
        "<matplotlib.figure.Figure at 0x11250ebd0>"
       ]
      }
     ],
     "prompt_number": 102
    },
    {
     "cell_type": "code",
     "collapsed": false,
     "input": [],
     "language": "python",
     "metadata": {},
     "outputs": []
    }
   ],
   "metadata": {}
  }
 ]
}