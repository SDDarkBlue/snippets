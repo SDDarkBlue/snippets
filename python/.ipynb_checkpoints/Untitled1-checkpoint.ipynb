{
 "metadata": {
  "name": "",
  "signature": "sha256:c3a449775d4076640a9df914a8566b9d04821d90c0426989fef75428036a4f39"
 },
 "nbformat": 3,
 "nbformat_minor": 0,
 "worksheets": []
}